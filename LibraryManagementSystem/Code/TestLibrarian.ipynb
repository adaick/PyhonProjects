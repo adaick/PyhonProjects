{
 "cells": [
  {
   "cell_type": "code",
   "execution_count": 1,
   "metadata": {},
   "outputs": [],
   "source": [
    "from Book import Book\n",
    "from Catalog import Catalog\n",
    "from User import Member, Librarian"
   ]
  },
  {
   "cell_type": "code",
   "execution_count": 2,
   "metadata": {},
   "outputs": [
    {
     "name": "stdout",
     "output_type": "stream",
     "text": [
      "Different Book Count 2\n",
      "Shoe Dog Phil Knight\n",
      "123hg\n",
      "124hg\n",
      "125hg\n",
      "Moonwalking with Einstien J Foer\n",
      "463hg\n",
      "Total Book Count 4\n",
      "----------------------\n"
     ]
    }
   ],
   "source": [
    "catalog = Catalog()                                                         # creating object for the Catalog\n",
    "\n",
    "b = catalog.addBook('Shoe Dog','Phil Knight', '2015',312)                   # adding new book to the catalog\n",
    "catalog.addBookItem(b, '123hg','H1B2')                                      # adding book item to catalog according to ISBN and rack no\n",
    "catalog.addBookItem(b, '124hg','H1B4')                                      # adding book item to catalog according to ISBN and rack no\n",
    "catalog.addBookItem(b, '125hg','H1B5')                                      # adding book item to catalog according to ISBN and rack no\n",
    "\n",
    "c = catalog.addBook('Moonwalking with Einstien','J Foer', '2017',318)       # adding new book to the catalog\n",
    "catalog.addBookItem(c, '463hg','K1B2')                                      # adding book item to catalog according to ISBN and rack no\n",
    "\n",
    "catalog.displayAllBooks()                                                   # this line will display available books in catalog\n",
    "print(\"----------------------\")"
   ]
  },
  {
   "cell_type": "code",
   "execution_count": 3,
   "metadata": {},
   "outputs": [
    {
     "name": "stdout",
     "output_type": "stream",
     "text": [
      "Awantik  Bangalore  zeke101\n"
     ]
    }
   ],
   "source": [
    "librarian = Librarian(\"Awantik \",\" Bangalore \",34,' asljlkj22 ',' zeke101') # creating object for librarian\n",
    "print (librarian)"
   ]
  },
  {
   "cell_type": "code",
   "execution_count": 4,
   "metadata": {},
   "outputs": [
    {
     "name": "stdout",
     "output_type": "stream",
     "text": [
      "Different Book Count 2\n",
      "Shoe Dog Phil Knight\n",
      "123hg\n",
      "124hg\n",
      "125hg\n",
      "Moonwalking with Einstien J Foer\n",
      "463hg\n",
      "Total Book Count 4\n"
     ]
    }
   ],
   "source": [
    "librarian.displayAllBooks(catalog)"
   ]
  },
  {
   "cell_type": "code",
   "execution_count": 5,
   "metadata": {},
   "outputs": [
    {
     "name": "stdout",
     "output_type": "stream",
     "text": [
      "Different Book Count 3\n",
      "Shoe Dog Phil Knight\n",
      "123hg\n",
      "124hg\n",
      "125hg\n",
      "Moonwalking with Einstien J Foer\n",
      "463hg\n",
      "Python XYZ\n",
      "Total Book Count 4\n"
     ]
    }
   ],
   "source": [
    "librarian.addBook(catalog,'Python','XYZ', '2015',312)             # librarian adding new book to catalog\n",
    "catalog.displayAllBooks()                                  "
   ]
  },
  {
   "cell_type": "code",
   "execution_count": 6,
   "metadata": {},
   "outputs": [
    {
     "name": "stdout",
     "output_type": "stream",
     "text": [
      "Different Book Count 3\n",
      "Shoe Dog Phil Knight\n",
      "123hg\n",
      "124hg\n",
      "125hg\n",
      "Moonwalking with Einstien J Foer\n",
      "463hg\n",
      "126hg\n",
      "Python XYZ\n",
      "Total Book Count 5\n"
     ]
    }
   ],
   "source": [
    "librarian.addBookItem(catalog,c, '126hg','H1B6')                            # librarian adding book item to catalog using catalog, book, ISBN and rack no\n",
    "catalog.displayAllBooks()   "
   ]
  },
  {
   "cell_type": "code",
   "execution_count": 7,
   "metadata": {},
   "outputs": [
    {
     "name": "stdout",
     "output_type": "stream",
     "text": [
      "Different Book Count 3\n",
      "Shoe Dog Phil Knight\n",
      "123hg\n",
      "124hg\n",
      "Moonwalking with Einstien J Foer\n",
      "463hg\n",
      "126hg\n",
      "Python XYZ\n",
      "Total Book Count 4\n"
     ]
    }
   ],
   "source": [
    "librarian.removeBookItemFromCatalog(catalog,'Shoe Dog','125hg')             # librarian removing book item from catalog\n",
    "catalog.displayAllBooks()          "
   ]
  },
  {
   "cell_type": "code",
   "execution_count": null,
   "metadata": {},
   "outputs": [],
   "source": []
  }
 ],
 "metadata": {
  "kernelspec": {
   "display_name": "Python 3",
   "language": "python",
   "name": "python3"
  },
  "language_info": {
   "codemirror_mode": {
    "name": "ipython",
    "version": 3
   },
   "file_extension": ".py",
   "mimetype": "text/x-python",
   "name": "python",
   "nbconvert_exporter": "python",
   "pygments_lexer": "ipython3",
   "version": "3.7.0"
  }
 },
 "nbformat": 4,
 "nbformat_minor": 2
}
