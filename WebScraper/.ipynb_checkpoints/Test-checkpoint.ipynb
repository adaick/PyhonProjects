{
 "cells": [
  {
   "cell_type": "code",
   "execution_count": 2,
   "metadata": {},
   "outputs": [],
   "source": [
    "import requests\n",
    "from bs4 import BeautifulSoup"
   ]
  },
  {
   "cell_type": "code",
   "execution_count": 3,
   "metadata": {},
   "outputs": [
    {
     "name": "stdout",
     "output_type": "stream",
     "text": [
      "200\n"
     ]
    }
   ],
   "source": [
    "result = requests.get(\"https://www.google.com/\")\n",
    "print(result.status_code)"
   ]
  },
  {
   "cell_type": "code",
   "execution_count": 5,
   "metadata": {},
   "outputs": [],
   "source": [
    "src=result.content\n",
    "soup = BeautifulSoup(src, 'lxml')\n"
   ]
  },
  {
   "cell_type": "code",
   "execution_count": 11,
   "metadata": {},
   "outputs": [
    {
     "name": "stdout",
     "output_type": "stream",
     "text": [
      "[<a class=\"gb1\" href=\"https://www.google.co.in/imghp?hl=en&amp;tab=wi\">Images</a>, <a class=\"gb1\" href=\"https://maps.google.co.in/maps?hl=en&amp;tab=wl\">Maps</a>, <a class=\"gb1\" href=\"https://play.google.com/?hl=en&amp;tab=w8\">Play</a>, <a class=\"gb1\" href=\"https://www.youtube.com/?gl=IN&amp;tab=w1\">YouTube</a>, <a class=\"gb1\" href=\"https://news.google.co.in/nwshp?hl=en&amp;tab=wn\">News</a>, <a class=\"gb1\" href=\"https://mail.google.com/mail/?tab=wm\">Gmail</a>, <a class=\"gb1\" href=\"https://drive.google.com/?tab=wo\">Drive</a>, <a class=\"gb1\" href=\"https://www.google.co.in/intl/en/about/products?tab=wh\" style=\"text-decoration:none\"><u>More</u> »</a>, <a class=\"gb4\" href=\"http://www.google.co.in/history/optout?hl=en\">Web History</a>, <a class=\"gb4\" href=\"/preferences?hl=en\">Settings</a>, <a class=\"gb4\" href=\"https://accounts.google.com/ServiceLogin?hl=en&amp;passive=true&amp;continue=https://www.google.com/\" id=\"gb_70\" target=\"_top\">Sign in</a>, <a href=\"/advanced_search?hl=en-IN&amp;authuser=0\">Advanced search</a>, <a href=\"https://www.google.com/setprefs?sig=0_tVfsxLokyEh6KdPJJKBbNS_ZvXg%3D&amp;hl=hi&amp;source=homepage&amp;sa=X&amp;ved=0ahUKEwj0rp_-nIbrAhXmyzgGHb5EDHEQ2ZgBCAU\">हिन्दी</a>, <a href=\"https://www.google.com/setprefs?sig=0_tVfsxLokyEh6KdPJJKBbNS_ZvXg%3D&amp;hl=bn&amp;source=homepage&amp;sa=X&amp;ved=0ahUKEwj0rp_-nIbrAhXmyzgGHb5EDHEQ2ZgBCAY\">বাংলা</a>, <a href=\"https://www.google.com/setprefs?sig=0_tVfsxLokyEh6KdPJJKBbNS_ZvXg%3D&amp;hl=te&amp;source=homepage&amp;sa=X&amp;ved=0ahUKEwj0rp_-nIbrAhXmyzgGHb5EDHEQ2ZgBCAc\">తెలుగు</a>, <a href=\"https://www.google.com/setprefs?sig=0_tVfsxLokyEh6KdPJJKBbNS_ZvXg%3D&amp;hl=mr&amp;source=homepage&amp;sa=X&amp;ved=0ahUKEwj0rp_-nIbrAhXmyzgGHb5EDHEQ2ZgBCAg\">मराठी</a>, <a href=\"https://www.google.com/setprefs?sig=0_tVfsxLokyEh6KdPJJKBbNS_ZvXg%3D&amp;hl=ta&amp;source=homepage&amp;sa=X&amp;ved=0ahUKEwj0rp_-nIbrAhXmyzgGHb5EDHEQ2ZgBCAk\">தமிழ்</a>, <a href=\"https://www.google.com/setprefs?sig=0_tVfsxLokyEh6KdPJJKBbNS_ZvXg%3D&amp;hl=gu&amp;source=homepage&amp;sa=X&amp;ved=0ahUKEwj0rp_-nIbrAhXmyzgGHb5EDHEQ2ZgBCAo\">ગુજરાતી</a>, <a href=\"https://www.google.com/setprefs?sig=0_tVfsxLokyEh6KdPJJKBbNS_ZvXg%3D&amp;hl=kn&amp;source=homepage&amp;sa=X&amp;ved=0ahUKEwj0rp_-nIbrAhXmyzgGHb5EDHEQ2ZgBCAs\">ಕನ್ನಡ</a>, <a href=\"https://www.google.com/setprefs?sig=0_tVfsxLokyEh6KdPJJKBbNS_ZvXg%3D&amp;hl=ml&amp;source=homepage&amp;sa=X&amp;ved=0ahUKEwj0rp_-nIbrAhXmyzgGHb5EDHEQ2ZgBCAw\">മലയാളം</a>, <a href=\"https://www.google.com/setprefs?sig=0_tVfsxLokyEh6KdPJJKBbNS_ZvXg%3D&amp;hl=pa&amp;source=homepage&amp;sa=X&amp;ved=0ahUKEwj0rp_-nIbrAhXmyzgGHb5EDHEQ2ZgBCA0\">ਪੰਜਾਬੀ</a>, <a href=\"/intl/en/ads/\">Advertising Programs</a>, <a href=\"http://www.google.co.in/services/\">Business Solutions</a>, <a href=\"/intl/en/about.html\">About Google</a>, <a href=\"https://www.google.com/setprefdomain?prefdom=IN&amp;prev=https://www.google.co.in/&amp;sig=K_CUAo8R7jHseGWo3NShtH296xS1c%3D\">Google.co.in</a>, <a href=\"/intl/en/policies/privacy/\">Privacy</a>, <a href=\"/intl/en/policies/terms/\">Terms</a>]\n",
      "\n",
      "\n"
     ]
    }
   ],
   "source": [
    "links = soup.find_all(\"a\")\n",
    "print(links)\n",
    "print(\"\\n\")"
   ]
  },
  {
   "cell_type": "code",
   "execution_count": 14,
   "metadata": {},
   "outputs": [
    {
     "name": "stdout",
     "output_type": "stream",
     "text": [
      "<a href=\"https://www.google.com/setprefs?sig=0_tVfsxLokyEh6KdPJJKBbNS_ZvXg%3D&amp;hl=mr&amp;source=homepage&amp;sa=X&amp;ved=0ahUKEwj0rp_-nIbrAhXmyzgGHb5EDHEQ2ZgBCAg\">मराठी</a>\n",
      "https://www.google.com/setprefs?sig=0_tVfsxLokyEh6KdPJJKBbNS_ZvXg%3D&hl=mr&source=homepage&sa=X&ved=0ahUKEwj0rp_-nIbrAhXmyzgGHb5EDHEQ2ZgBCAg\n"
     ]
    }
   ],
   "source": [
    "for link in links:\n",
    "    if \"मराठी\" in link.text:\n",
    "        print(link)\n",
    "        print(link.attrs['href'])"
   ]
  },
  {
   "cell_type": "code",
   "execution_count": 15,
   "metadata": {},
   "outputs": [
    {
     "name": "stdout",
     "output_type": "stream",
     "text": [
      "['https://www.whitehouse.gov/briefings-statements/remarks-president-trump-meeting-governor-ducey-arizona/', 'https://www.whitehouse.gov/briefings-statements/remarks-vice-president-pence-importance-life-seminole-fl/', 'https://www.whitehouse.gov/briefings-statements/remarks-president-trump-press-briefing-august-4-2020/', 'https://www.whitehouse.gov/briefings-statements/remarks-president-trump-vice-president-pence-ceremonial-swearing-general-charles-brown-chief-staff-air-force/', 'https://www.whitehouse.gov/briefings-statements/press-briefing-press-secretary-kayleigh-mcenany-8-4-2020/', 'https://www.whitehouse.gov/briefings-statements/statement-national-security-adviser-robert-c-obrien-regarding-libya/', 'https://www.whitehouse.gov/briefings-statements/remarks-president-trump-signing-h-r-1957-great-american-outdoors-act/', 'https://www.whitehouse.gov/briefings-statements/president-donald-j-trump-conserving-restoring-majesty-americas-public-lands/', 'https://www.whitehouse.gov/briefings-statements/bill-announcement-080420/', 'https://www.whitehouse.gov/briefings-statements/presidential-message-230th-birthday-united-states-coast-guard/']\n"
     ]
    }
   ],
   "source": [
    "result = requests.get(\"https://www.whitehouse.gov/briefings-statements/\")\n",
    "src = result.content\n",
    "soup = BeautifulSoup(src, 'lxml')\n",
    "\n",
    "urls = []\n",
    "for h2_tag in soup.find_all('h2'):\n",
    "    a_tag = h2_tag.find('a')\n",
    "    urls.append(a_tag.attrs['href'])\n",
    "\n",
    "print(urls)"
   ]
  },
  {
   "cell_type": "code",
   "execution_count": null,
   "metadata": {},
   "outputs": [],
   "source": []
  }
 ],
 "metadata": {
  "kernelspec": {
   "display_name": "Python 3",
   "language": "python",
   "name": "python3"
  },
  "language_info": {
   "codemirror_mode": {
    "name": "ipython",
    "version": 3
   },
   "file_extension": ".py",
   "mimetype": "text/x-python",
   "name": "python",
   "nbconvert_exporter": "python",
   "pygments_lexer": "ipython3",
   "version": "3.7.0"
  }
 },
 "nbformat": 4,
 "nbformat_minor": 2
}
